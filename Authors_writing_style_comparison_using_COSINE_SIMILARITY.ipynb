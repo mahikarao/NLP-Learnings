{
 "cells": [
  {
   "cell_type": "markdown",
   "metadata": {},
   "source": [
    "# Demonstate cosine similarity "
   ]
  },
  {
   "cell_type": "markdown",
   "metadata": {},
   "source": [
    "We were given a task to compare a articles of our favourite author and check the style similarity. \n",
    "Though I am not sure how much of cosine similarity ALONE is enough but it certainly is a parameter\n",
    "which can be used. \n",
    "\n",
    "here are two excerpts from Twinkle Khanna's articles"
   ]
  },
  {
   "cell_type": "code",
   "execution_count": 32,
   "metadata": {},
   "outputs": [],
   "source": [
    "d1=\"\"\"I clearly recall more than one occasion when I almost had to sit on my hands so that I would not end up strangling my mother. Like the time, she said my newly done highlights looked like someone had spat paan on my head. She said it as a joke but her criticism, even light-hearted, would sting. Now after having children of my own, I do understand a little better.\n",
    "\n",
    "Raising a child involves poking your nose in every aspect of her life when she is little. You create each block of her being. Pile it together in a structure you see fit. You do this year after year, and get so used to it that you forget that those blocks finally belong to her. As an adult, she has to take them and change them around. Maybe build a pyramid instead of the rectangle that you consider an impeccable accomplishment.\n",
    "\n",
    "I know that like most daughters, my self-worth for the longest time and partially even now, is based firmly on what I\n",
    "\n",
    "perceive as my mother’s notion of me. That each time I hear her ‘helpful’ advice, I wonder – is the pyramid I have built not good enough? And does that mean I am not good enough?\n",
    "\n",
    "Mothers of adult daughters, if you have done your job well, then you have equipped your offspring with enough sense to make the right choices. Now comes the most difficult part of parenting – developing the willpower to refrain from giving unsolicited advice.\"\"\""
   ]
  },
  {
   "cell_type": "code",
   "execution_count": 33,
   "metadata": {},
   "outputs": [
    {
     "data": {
      "text/plain": [
       "'I clearly recall more than one occasion when I almost had to sit on my hands so that I would not end up strangling my mother. Like the time, she said my newly done highlights looked like someone had spat paan on my head. She said it as a joke but her criticism, even light-hearted, would sting. Now after having children of my own, I do understand a little better.\\n\\nRaising a child involves poking your nose in every aspect of her life when she is little. You create each block of her being. Pile it together in a structure you see fit. You do this year after year, and get so used to it that you forget that those blocks finally belong to her. As an adult, she has to take them and change them around. Maybe build a pyramid instead of the rectangle that you consider an impeccable accomplishment.\\n\\nI know that like most daughters, my self-worth for the longest time and partially even now, is based firmly on what I\\n\\nperceive as my mother’s notion of me. That each time I hear her ‘helpful’ advice, I wonder – is the pyramid I have built not good enough? And does that mean I am not good enough?\\n\\nMothers of adult daughters, if you have done your job well, then you have equipped your offspring with enough sense to make the right choices. Now comes the most difficult part of parenting – developing the willpower to refrain from giving unsolicited advice.'"
      ]
     },
     "execution_count": 33,
     "metadata": {},
     "output_type": "execute_result"
    }
   ],
   "source": [
    "d1\n",
    "\n",
    "#Article courtsey:A mother’s day toast to all the perfectly imperfect moms in the world"
   ]
  },
  {
   "cell_type": "code",
   "execution_count": 34,
   "metadata": {},
   "outputs": [],
   "source": [
    "d2=\"\"\"Along with a baffling urge to scream, I also have a number of questions like — why so many lessons when school is shut till August! How important can this be when clearly you are not working on exponential growth models? How does it matter if ‘A farmer has 10 sheep and if 3 are taken away how many are left?’ How is this even relevant at a time when no one is taking anyone’s sheep anywhere, because no one is eating meat? I mean, come on, even bloody biryani is now made with jackfruit.\n",
    "\n",
    "Luckily, I manage to stifle this rant and start humming an old song, I think it’s from Saajan.\n",
    "\n",
    "Noon: Now she is insisting on a game of monopoly. Though I would rather bang my head on the wall, I nod wearily. It is halfway through the game when I am singing ‘Zahareela Zahreela Pyaar’ with all the hissing sound effects that I realise I have a serious problem.\n",
    "\n",
    "My subconscious, worried that I may not be coping as well as I should, is trying to remind me of the one person who survived an extended lockdown with equanimity, Sanjay Dutt.\n",
    "\n",
    "2pm: Unable to get in touch with Munna Bhai M.B.B.S,\n",
    "\n",
    "I reach out to Dr Parul Tank, a well-known psychiatrist and therapist, for tips on surviving the pandemic.\n",
    "\n",
    "She writes back saying her primary advice to everyone at this point would be to avoid conflicts as much as possible.\n",
    "\n",
    "‘This is a time to be particularly careful about how you phrase requests around chores. Let’s not bring up past issues wherein a blame game can start and learn to be more accepting,’ she states.\"\"\""
   ]
  },
  {
   "cell_type": "code",
   "execution_count": 35,
   "metadata": {},
   "outputs": [
    {
     "data": {
      "text/plain": [
       "'Along with a baffling urge to scream, I also have a number of questions like — why so many lessons when school is shut till August! How important can this be when clearly you are not working on exponential growth models? How does it matter if ‘A farmer has 10 sheep and if 3 are taken away how many are left?’ How is this even relevant at a time when no one is taking anyone’s sheep anywhere, because no one is eating meat? I mean, come on, even bloody biryani is now made with jackfruit.\\n\\nLuckily, I manage to stifle this rant and start humming an old song, I think it’s from Saajan.\\n\\nNoon: Now she is insisting on a game of monopoly. Though I would rather bang my head on the wall, I nod wearily. It is halfway through the game when I am singing ‘Zahareela Zahreela Pyaar’ with all the hissing sound effects that I realise I have a serious problem.\\n\\nMy subconscious, worried that I may not be coping as well as I should, is trying to remind me of the one person who survived an extended lockdown with equanimity, Sanjay Dutt.\\n\\n2pm: Unable to get in touch with Munna Bhai M.B.B.S,\\n\\nI reach out to Dr Parul Tank, a well-known psychiatrist and therapist, for tips on surviving the pandemic.\\n\\nShe writes back saying her primary advice to everyone at this point would be to avoid conflicts as much as possible.\\n\\n‘This is a time to be particularly careful about how you phrase requests around chores. Let’s not bring up past issues wherein a blame game can start and learn to be more accepting,’ she states.'"
      ]
     },
     "execution_count": 35,
     "metadata": {},
     "output_type": "execute_result"
    }
   ],
   "source": [
    "d2\n",
    "\n",
    "#Article Courtsey:when-your-lockdown-glass-is-half-full-of-gin"
   ]
  },
  {
   "cell_type": "code",
   "execution_count": 36,
   "metadata": {},
   "outputs": [],
   "source": [
    "d3=\"\"\"Trump returned the compliment by greeting Indians with a ‘NaMoste’. Please believe me when I tell you that this was again not an error, but an homage to his friend’s nickname, NaMo. I can’t say the same for the other words that he mangled, however, like Ahmedabad and Sachin, and I do have a sneaky feeling that he had a minor stroke while trying to say Swami Vivekananda. In all the videos of the event, you can see him going redder halfway through the word before he just coughs out whatever consonants come to mind and ends up with ‘Vivekamunun.’ I suppose we should just give him the Param Vir Chakra for being brave enough to even attempt that name.\n",
    "\n",
    "India, of course, had gone all out to impress the foreign visitor. We built brick walls along the route of the president’s motorcade.\n",
    "\n",
    "Again, I will argue that contrary to popular belief, this was not to cover up slums but because everyone knows Trump’s fascination with well, walls.\n",
    "\n",
    "After the Macho Man event, Trump went off to Agra to see the iconic Taj Mahal, an ode to everlasting love that he visited with his third wife. In the spirit of the Rin ad catchline – ‘Bhala uski kameez meri kameez se safed kaise’, we have been rather competitive over some monumental safedi. In anticipation of this visit, we scrubbed the Taj Mahal down, used clay packs, tamarind water and, I suppose, tossed in some detergent as well till our yellowing mausoleum was as white as Trump’s White House.\n",
    "\n",
    "‘Dolund’ Trump spent a total of 36 hours in India then hurried back home, which had probably more to do with his tummy than his heart. You see, despite all our bending over backwards to please our esteemed guest, we were unable to provide his favorite meal, which according to his long-time butler, is a well-done beef steak. In a bit of a ‘cownundrum,’ we decided to feed him broccoli samosas instead.\n",
    "Now that, my friends, is a dish that is hard for even us good old Indians to stomach.\"\"\""
   ]
  },
  {
   "cell_type": "code",
   "execution_count": 37,
   "metadata": {},
   "outputs": [
    {
     "data": {
      "text/plain": [
       "'Trump returned the compliment by greeting Indians with a ‘NaMoste’. Please believe me when I tell you that this was again not an error, but an homage to his friend’s nickname, NaMo. I can’t say the same for the other words that he mangled, however, like Ahmedabad and Sachin, and I do have a sneaky feeling that he had a minor stroke while trying to say Swami Vivekananda. In all the videos of the event, you can see him going redder halfway through the word before he just coughs out whatever consonants come to mind and ends up with ‘Vivekamunun.’ I suppose we should just give him the Param Vir Chakra for being brave enough to even attempt that name.\\n\\nIndia, of course, had gone all out to impress the foreign visitor. We built brick walls along the route of the president’s motorcade.\\n\\nAgain, I will argue that contrary to popular belief, this was not to cover up slums but because everyone knows Trump’s fascination with well, walls.\\n\\nAfter the Macho Man event, Trump went off to Agra to see the iconic Taj Mahal, an ode to everlasting love that he visited with his third wife. In the spirit of the Rin ad catchline – ‘Bhala uski kameez meri kameez se safed kaise’, we have been rather competitive over some monumental safedi. In anticipation of this visit, we scrubbed the Taj Mahal down, used clay packs, tamarind water and, I suppose, tossed in some detergent as well till our yellowing mausoleum was as white as Trump’s White House.\\n\\n‘Dolund’ Trump spent a total of 36 hours in India then hurried back home, which had probably more to do with his tummy than his heart. You see, despite all our bending over backwards to please our esteemed guest, we were unable to provide his favorite meal, which according to his long-time butler, is a well-done beef steak. In a bit of a ‘cownundrum,’ we decided to feed him broccoli samosas instead.\\nNow that, my friends, is a dish that is hard for even us good old Indians to stomach.'"
      ]
     },
     "execution_count": 37,
     "metadata": {},
     "output_type": "execute_result"
    }
   ],
   "source": [
    "d3\n",
    "\n",
    "#Article Courtsey: Of Macho men and Broccoli Cownundrums"
   ]
  },
  {
   "cell_type": "markdown",
   "metadata": {},
   "source": [
    "### Now showing Cosine similarity"
   ]
  },
  {
   "cell_type": "code",
   "execution_count": 38,
   "metadata": {},
   "outputs": [],
   "source": [
    "document = [d1,d2,d3]"
   ]
  },
  {
   "cell_type": "code",
   "execution_count": 39,
   "metadata": {},
   "outputs": [],
   "source": [
    "from sklearn.feature_extraction.text import CountVectorizer\n",
    "import pandas as pd\n"
   ]
  },
  {
   "cell_type": "code",
   "execution_count": 40,
   "metadata": {},
   "outputs": [],
   "source": [
    "\n",
    "cv = CountVectorizer(stop_words='english')"
   ]
  },
  {
   "cell_type": "code",
   "execution_count": 41,
   "metadata": {},
   "outputs": [],
   "source": [
    "matrix = cv.fit_transform(document)"
   ]
  },
  {
   "cell_type": "code",
   "execution_count": 42,
   "metadata": {},
   "outputs": [],
   "source": [
    "matrix = matrix.todense()"
   ]
  },
  {
   "cell_type": "code",
   "execution_count": 43,
   "metadata": {},
   "outputs": [],
   "source": [
    "dataframe = pd.DataFrame(matrix,columns=cv.get_feature_names(),index=['Mothers Day','Gin Glass','Macho Men'])"
   ]
  },
  {
   "cell_type": "code",
   "execution_count": 44,
   "metadata": {},
   "outputs": [
    {
     "data": {
      "text/html": [
       "<div>\n",
       "<style scoped>\n",
       "    .dataframe tbody tr th:only-of-type {\n",
       "        vertical-align: middle;\n",
       "    }\n",
       "\n",
       "    .dataframe tbody tr th {\n",
       "        vertical-align: top;\n",
       "    }\n",
       "\n",
       "    .dataframe thead th {\n",
       "        text-align: right;\n",
       "    }\n",
       "</style>\n",
       "<table border=\"1\" class=\"dataframe\">\n",
       "  <thead>\n",
       "    <tr style=\"text-align: right;\">\n",
       "      <th></th>\n",
       "      <th>10</th>\n",
       "      <th>2pm</th>\n",
       "      <th>36</th>\n",
       "      <th>accepting</th>\n",
       "      <th>accomplishment</th>\n",
       "      <th>according</th>\n",
       "      <th>ad</th>\n",
       "      <th>adult</th>\n",
       "      <th>advice</th>\n",
       "      <th>agra</th>\n",
       "      <th>...</th>\n",
       "      <th>word</th>\n",
       "      <th>words</th>\n",
       "      <th>working</th>\n",
       "      <th>worried</th>\n",
       "      <th>worth</th>\n",
       "      <th>writes</th>\n",
       "      <th>year</th>\n",
       "      <th>yellowing</th>\n",
       "      <th>zahareela</th>\n",
       "      <th>zahreela</th>\n",
       "    </tr>\n",
       "  </thead>\n",
       "  <tbody>\n",
       "    <tr>\n",
       "      <th>Mothers Day</th>\n",
       "      <td>0</td>\n",
       "      <td>0</td>\n",
       "      <td>0</td>\n",
       "      <td>0</td>\n",
       "      <td>1</td>\n",
       "      <td>0</td>\n",
       "      <td>0</td>\n",
       "      <td>2</td>\n",
       "      <td>2</td>\n",
       "      <td>0</td>\n",
       "      <td>...</td>\n",
       "      <td>0</td>\n",
       "      <td>0</td>\n",
       "      <td>0</td>\n",
       "      <td>0</td>\n",
       "      <td>1</td>\n",
       "      <td>0</td>\n",
       "      <td>2</td>\n",
       "      <td>0</td>\n",
       "      <td>0</td>\n",
       "      <td>0</td>\n",
       "    </tr>\n",
       "    <tr>\n",
       "      <th>Gin Glass</th>\n",
       "      <td>1</td>\n",
       "      <td>1</td>\n",
       "      <td>0</td>\n",
       "      <td>1</td>\n",
       "      <td>0</td>\n",
       "      <td>0</td>\n",
       "      <td>0</td>\n",
       "      <td>0</td>\n",
       "      <td>1</td>\n",
       "      <td>0</td>\n",
       "      <td>...</td>\n",
       "      <td>0</td>\n",
       "      <td>0</td>\n",
       "      <td>1</td>\n",
       "      <td>1</td>\n",
       "      <td>0</td>\n",
       "      <td>1</td>\n",
       "      <td>0</td>\n",
       "      <td>0</td>\n",
       "      <td>1</td>\n",
       "      <td>1</td>\n",
       "    </tr>\n",
       "    <tr>\n",
       "      <th>Macho Men</th>\n",
       "      <td>0</td>\n",
       "      <td>0</td>\n",
       "      <td>1</td>\n",
       "      <td>0</td>\n",
       "      <td>0</td>\n",
       "      <td>1</td>\n",
       "      <td>1</td>\n",
       "      <td>0</td>\n",
       "      <td>0</td>\n",
       "      <td>1</td>\n",
       "      <td>...</td>\n",
       "      <td>1</td>\n",
       "      <td>1</td>\n",
       "      <td>0</td>\n",
       "      <td>0</td>\n",
       "      <td>0</td>\n",
       "      <td>0</td>\n",
       "      <td>0</td>\n",
       "      <td>1</td>\n",
       "      <td>0</td>\n",
       "      <td>0</td>\n",
       "    </tr>\n",
       "  </tbody>\n",
       "</table>\n",
       "<p>3 rows × 326 columns</p>\n",
       "</div>"
      ],
      "text/plain": [
       "             10  2pm  36  accepting  accomplishment  according  ad  adult  \\\n",
       "Mothers Day   0    0   0          0               1          0   0      2   \n",
       "Gin Glass     1    1   0          1               0          0   0      0   \n",
       "Macho Men     0    0   1          0               0          1   1      0   \n",
       "\n",
       "             advice  agra  ...  word  words  working  worried  worth  writes  \\\n",
       "Mothers Day       2     0  ...     0      0        0        0      1       0   \n",
       "Gin Glass         1     0  ...     0      0        1        1      0       1   \n",
       "Macho Men         0     1  ...     1      1        0        0      0       0   \n",
       "\n",
       "             year  yellowing  zahareela  zahreela  \n",
       "Mothers Day     2          0          0         0  \n",
       "Gin Glass       0          0          1         1  \n",
       "Macho Men       0          1          0         0  \n",
       "\n",
       "[3 rows x 326 columns]"
      ]
     },
     "execution_count": 44,
     "metadata": {},
     "output_type": "execute_result"
    }
   ],
   "source": [
    "dataframe.head(20)"
   ]
  },
  {
   "cell_type": "code",
   "execution_count": 45,
   "metadata": {},
   "outputs": [],
   "source": [
    "from sklearn.metrics.pairwise import cosine_similarity\n"
   ]
  },
  {
   "cell_type": "code",
   "execution_count": 46,
   "metadata": {},
   "outputs": [
    {
     "name": "stdout",
     "output_type": "stream",
     "text": [
      "[[1.         0.11495012 0.0675317 ]\n",
      " [0.11495012 1.         0.055892  ]\n",
      " [0.0675317  0.055892   1.        ]]\n"
     ]
    }
   ],
   "source": [
    "print(cosine_similarity(dataframe, dataframe))\n"
   ]
  },
  {
   "cell_type": "markdown",
   "metadata": {},
   "source": [
    "Analysis: It turns out, the closer the documents are by angle, the higher is the Cosine Similarity (Cos theta). As you include more words from the document, it's harder to visualize a higher dimensional space.\n",
    "\n",
    "# higher the value, more similar will the articles be\n",
    "\n",
    "Since the similarity between her articles is very less compared to 1.00000; therefore it is safe to say that Twinkle khanna brings to you a fresh piece of work with many new vocabulary each time. : )\n",
    "\n",
    "MOST DEFINITELY WORTH HIRING.. No scratch that, Maybe she should run your firm :P"
   ]
  },
  {
   "cell_type": "code",
   "execution_count": null,
   "metadata": {},
   "outputs": [],
   "source": []
  }
 ],
 "metadata": {
  "kernelspec": {
   "display_name": "Python 3",
   "language": "python",
   "name": "python3"
  },
  "language_info": {
   "codemirror_mode": {
    "name": "ipython",
    "version": 3
   },
   "file_extension": ".py",
   "mimetype": "text/x-python",
   "name": "python",
   "nbconvert_exporter": "python",
   "pygments_lexer": "ipython3",
   "version": "3.7.3"
  }
 },
 "nbformat": 4,
 "nbformat_minor": 2
}
